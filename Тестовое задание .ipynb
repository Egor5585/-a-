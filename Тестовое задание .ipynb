{
 "cells": [
  {
   "cell_type": "markdown",
   "id": "b0240f8e",
   "metadata": {},
   "source": [
    "# Тестовое задание"
   ]
  },
  {
   "cell_type": "code",
   "execution_count": 1,
   "id": "a5b201b0",
   "metadata": {},
   "outputs": [],
   "source": [
    "#Импортируем необходимые библиотеки для рабоыты!\n",
    "import pandas as pd\n",
    "import numpy as np\n",
    "import matplotlib.pyplot as plt\n",
    "import seaborn as sns\n",
    "import plotly.express as px \n",
    "from datetime import datetime"
   ]
  },
  {
   "cell_type": "markdown",
   "id": "eae97698",
   "metadata": {},
   "source": [
    "## Вопросы\n",
    "1) Как хорошо Вы владеете Python? Оцените свой уровень по шкале от 0 до 10, где 0 - совсем не знаю, 10 - владею в совершенстве.\n",
    "\n",
    "`Ответ:` ***6-7, считаю, что вызовые навыки уже отработаны, но есть к чему стремиться.***\n",
    "\n",
    "2) Насколько хорошо Вы знакомы с Google Sheets? Оцените свой уровень по шкале от 0 до 10, где 0 - совсем не знаю, 10 - владею в совершенстве. Объясните, почему Вы выбрали такой балл.\n",
    "\n",
    "`Ответ:` ***7, последние 2-3 года активно применяю в личных и рабочих целях.***"
   ]
  },
  {
   "cell_type": "markdown",
   "id": "0b4d31e4",
   "metadata": {},
   "source": [
    "## Задачи на логику:\n",
    "\n"
   ]
  },
  {
   "cell_type": "markdown",
   "id": "ef7d65dc",
   "metadata": {},
   "source": [
    "1) Рекламная кампания стартовала вчера с дневным бюджетом 40 $. Половина\n",
    "бюджета была израсходована к полудню, а 80% оставшегося бюджета было\n",
    "потрачено между полуднем и временем закрытия. Сколько долларов не было\n",
    "потрачено?"
   ]
  },
  {
   "cell_type": "code",
   "execution_count": 2,
   "id": "ee5cec01",
   "metadata": {},
   "outputs": [
    {
     "name": "stdout",
     "output_type": "stream",
     "text": [
      "Ответ: Осталось(не потрачено):  4.0\n"
     ]
    }
   ],
   "source": [
    "amount =40\n",
    "print('Ответ: Осталось(не потрачено): ',amount - (amount*0.5 + amount*0.5 * 0.8))"
   ]
  },
  {
   "cell_type": "markdown",
   "id": "712bdfbc",
   "metadata": {},
   "source": [
    "2) 5 идентичных рекламных кампаний работали 24 дня по 6 часов в день,\n",
    "потрачено было 120 долларов. Сколько дней они работали бы на 216 долларов,\n",
    "если бы 9 одинаковых кампаний работали бы по 8 часов в день?"
   ]
  },
  {
   "cell_type": "code",
   "execution_count": 3,
   "id": "242b8db8",
   "metadata": {},
   "outputs": [
    {
     "name": "stdout",
     "output_type": "stream",
     "text": [
      "Ответ: Число дней, которые будет рабоать компании:  18.0\n"
     ]
    }
   ],
   "source": [
    "# находим цену 1 часа работы рекламной  компании \n",
    "hour = ((120/5 )/ 24)/6 \n",
    "\n",
    "print('Ответ: Число дней, которые будет рабоать компании: ', 216 / (hour*8 * 9))"
   ]
  },
  {
   "cell_type": "markdown",
   "id": "0a7229da",
   "metadata": {},
   "source": [
    "3) Дизайнеры создали 200 рекламных баннеров для двух рекламных кампаний. 80\n",
    "из них не использовались ни в кампании No1, ни в кампании No2, 60\n",
    "использовались только в кампании No1. И для каждого рекламного баннера,\n",
    "который использовался в обеих кампаниях, приходится 3 баннера, которые\n",
    "использовались только в кампании No2. Сколько баннеров было использовано в\n",
    "обеих рекламных кампаниях?\n",
    "\n",
    "`Ответ:` 15 банеров"
   ]
  },
  {
   "cell_type": "markdown",
   "id": "2919e4f0",
   "metadata": {},
   "source": [
    "4) Энн использует Instagram, но не Facebook, а Джон использует Youtube иFacebook. Кейт использует Youtube, но не Instagram, а Том использует Facebook, но не Youtube. Если каждый человек использует две из трех социальных сетей, у кого предпочтения совпадают?\n",
    "\n",
    "`Ответ:` предпочтения совпадают у Джона и Кейта (используют Youtube и Facebook)"
   ]
  },
  {
   "cell_type": "markdown",
   "id": "3ceb4451",
   "metadata": {},
   "source": [
    "5) Средний итоговый балл стажера по 4 модулям составляет 78 баллов. Сколько баллов должен получить стажер за 5-й модуль, чтобы средний балл по всему заданию составил 80?\n",
    "\n",
    "`Ответ:` 88"
   ]
  },
  {
   "cell_type": "markdown",
   "id": "ff1648f6",
   "metadata": {},
   "source": [
    "6) Заказанные в приложении товары доставляются на автомобиле. Автомобильпроезжает 260 км со средней скоростью 80 км / ч. На обратном пути машина движется со средней скоростью 100 км / ч. Насколько быстрее был обратный путь? Ответ указать в минутах."
   ]
  },
  {
   "cell_type": "code",
   "execution_count": 4,
   "id": "b2dcba67",
   "metadata": {},
   "outputs": [
    {
     "name": "stdout",
     "output_type": "stream",
     "text": [
      "Ответ: Обратный путь был быстрее на 39 минут\n"
     ]
    }
   ],
   "source": [
    "time_1=260/80\n",
    "time_2=260/100\n",
    "print('Ответ: Обратный путь был быстрее на {} минут'.format(np.abs(round((time_1-time_2)*60))))"
   ]
  },
  {
   "cell_type": "markdown",
   "id": "0663b8d4",
   "metadata": {},
   "source": [
    "## Техническое задание\n",
    "\n",
    "Перед нами данные по поступлению денежных средств от\n",
    "клиентов компании N за покупку ее услуг.\n",
    "\n",
    "`Имеющиеся поля:`\n",
    "\n",
    "    ● client_id - ID клиента;\n",
    "    ● sum – сумма денежных средств;\n",
    "    ● status – статус оплаты;\n",
    "    ● sale – менеджер, заключивший сделку;\n",
    "    ● new/current – статус сделки;\n",
    "    ● document – наличие оригинала подписанного договора с клиентом;\n",
    "    ● receiving_date – дата получения оригинала договора.\n",
    "    \n",
    "    \n",
    "`Вопросы:`\n",
    "\n",
    "1) Вычислите общую выручку за июль 2021 по тем сделкам, приход денежных\n",
    "средств которых не просрочен.\n",
    "2) Как изменялась выручка компании за рассматриваемый период?\n",
    "Проиллюстрируйте графиком.\n",
    "3) Кто из менеджеров привлек для компании больше всего денежных средств в\n",
    "сентябре 2021?\n",
    "4) Какой тип сделок (новая/текущая) был преобладающим в октябре 2021?\n",
    "5) Сколько оригиналов договора по майским сделкам было получено в июне 2021?\n",
    "\n",
    "\n",
    "`Задание:`\n",
    "\n",
    "За каждую заключенную сделку менеджер получает бонус, который рассчитывается\n",
    "следующим образом.\n",
    "1) За новые сделки менеджер получает 7 % от суммы, при условии, что статус\n",
    "оплаты «ОПЛАЧЕНО», а также имеется оригинал подписанного договора с\n",
    "клиентом (в рассматриваемом месяце).\n",
    "2) За текущие сделки менеджер получает 5 % от суммы, если она больше 10 тыс.,\n",
    "и 3 % от суммы, если меньше. При этом статус оплаты может быть любым,\n",
    "кроме «ПРОСРОЧЕНО», а также необходимо наличие оригинала подписанного\n",
    "договора с клиентом (в рассматриваемом месяце).\n",
    "Бонусы по сделкам, оригиналы для которых приходят позже рассматриваемого\n",
    "месяца, считаются остатком на следующий период, который выплачивается по мере\n",
    "прихода оригиналов. Вычислите остаток каждого из менеджеров на 01.07.2021."
   ]
  },
  {
   "cell_type": "code",
   "execution_count": 5,
   "id": "d71189ef",
   "metadata": {},
   "outputs": [],
   "source": [
    "#Импортируем необходимые библиотеки для рабоыты!\n",
    "import pandas as pd"
   ]
  },
  {
   "cell_type": "code",
   "execution_count": 6,
   "id": "c9147677",
   "metadata": {},
   "outputs": [
    {
     "data": {
      "text/html": [
       "<div>\n",
       "<style scoped>\n",
       "    .dataframe tbody tr th:only-of-type {\n",
       "        vertical-align: middle;\n",
       "    }\n",
       "\n",
       "    .dataframe tbody tr th {\n",
       "        vertical-align: top;\n",
       "    }\n",
       "\n",
       "    .dataframe thead th {\n",
       "        text-align: right;\n",
       "    }\n",
       "</style>\n",
       "<table border=\"1\" class=\"dataframe\">\n",
       "  <thead>\n",
       "    <tr style=\"text-align: right;\">\n",
       "      <th></th>\n",
       "      <th>client_id</th>\n",
       "      <th>sum</th>\n",
       "      <th>status</th>\n",
       "      <th>sale</th>\n",
       "      <th>new/current</th>\n",
       "      <th>Unnamed: 5</th>\n",
       "      <th>document</th>\n",
       "      <th>receiving_date</th>\n",
       "    </tr>\n",
       "  </thead>\n",
       "  <tbody>\n",
       "    <tr>\n",
       "      <th>0</th>\n",
       "      <td>NaN</td>\n",
       "      <td>NaN</td>\n",
       "      <td>Май 2021</td>\n",
       "      <td>NaN</td>\n",
       "      <td>NaN</td>\n",
       "      <td>NaN</td>\n",
       "      <td>NaN</td>\n",
       "      <td>NaN</td>\n",
       "    </tr>\n",
       "    <tr>\n",
       "      <th>1</th>\n",
       "      <td>6.0</td>\n",
       "      <td>11693.7</td>\n",
       "      <td>ВНУТРЕННИЙ</td>\n",
       "      <td>-</td>\n",
       "      <td>-</td>\n",
       "      <td>NaN</td>\n",
       "      <td>-</td>\n",
       "      <td>-</td>\n",
       "    </tr>\n",
       "    <tr>\n",
       "      <th>2</th>\n",
       "      <td>14.0</td>\n",
       "      <td>5452.7</td>\n",
       "      <td>ОПЛАЧЕНО</td>\n",
       "      <td>Петрова</td>\n",
       "      <td>новая</td>\n",
       "      <td>NaN</td>\n",
       "      <td>оригинал</td>\n",
       "      <td>2021-07-26 00:00:00</td>\n",
       "    </tr>\n",
       "    <tr>\n",
       "      <th>3</th>\n",
       "      <td>15.0</td>\n",
       "      <td>13991.7</td>\n",
       "      <td>ОПЛАЧЕНО</td>\n",
       "      <td>Иванов</td>\n",
       "      <td>текущая</td>\n",
       "      <td>NaN</td>\n",
       "      <td>оригинал</td>\n",
       "      <td>2021-06-08 00:00:00</td>\n",
       "    </tr>\n",
       "    <tr>\n",
       "      <th>4</th>\n",
       "      <td>16.0</td>\n",
       "      <td>719.7</td>\n",
       "      <td>ОПЛАЧЕНО</td>\n",
       "      <td>Иванов</td>\n",
       "      <td>текущая</td>\n",
       "      <td>NaN</td>\n",
       "      <td>оригинал</td>\n",
       "      <td>2021-06-08 00:00:00</td>\n",
       "    </tr>\n",
       "    <tr>\n",
       "      <th>...</th>\n",
       "      <td>...</td>\n",
       "      <td>...</td>\n",
       "      <td>...</td>\n",
       "      <td>...</td>\n",
       "      <td>...</td>\n",
       "      <td>...</td>\n",
       "      <td>...</td>\n",
       "      <td>...</td>\n",
       "    </tr>\n",
       "    <tr>\n",
       "      <th>725</th>\n",
       "      <td>285.0</td>\n",
       "      <td>4328.7</td>\n",
       "      <td>ОПЛАЧЕНО</td>\n",
       "      <td>Васильев</td>\n",
       "      <td>текущая</td>\n",
       "      <td>NaN</td>\n",
       "      <td>оригинал</td>\n",
       "      <td>2021-11-15 00:00:00</td>\n",
       "    </tr>\n",
       "    <tr>\n",
       "      <th>726</th>\n",
       "      <td>360.0</td>\n",
       "      <td>3096.2</td>\n",
       "      <td>ОПЛАЧЕНО</td>\n",
       "      <td>Васильев</td>\n",
       "      <td>новая</td>\n",
       "      <td>NaN</td>\n",
       "      <td>НЕТ</td>\n",
       "      <td>NaN</td>\n",
       "    </tr>\n",
       "    <tr>\n",
       "      <th>727</th>\n",
       "      <td>360.0</td>\n",
       "      <td>3096.2</td>\n",
       "      <td>ПРОСРОЧЕНО</td>\n",
       "      <td>Васильев</td>\n",
       "      <td>новая</td>\n",
       "      <td>NaN</td>\n",
       "      <td>НЕТ</td>\n",
       "      <td>NaN</td>\n",
       "    </tr>\n",
       "    <tr>\n",
       "      <th>728</th>\n",
       "      <td>373.0</td>\n",
       "      <td>4403.7</td>\n",
       "      <td>ОПЛАЧЕНО</td>\n",
       "      <td>Михайлов</td>\n",
       "      <td>новая</td>\n",
       "      <td>NaN</td>\n",
       "      <td>оригинал</td>\n",
       "      <td>2021-11-08 00:00:00</td>\n",
       "    </tr>\n",
       "    <tr>\n",
       "      <th>729</th>\n",
       "      <td>286.0</td>\n",
       "      <td>3978.7</td>\n",
       "      <td>ОПЛАЧЕНО</td>\n",
       "      <td>Филимонова</td>\n",
       "      <td>текущая</td>\n",
       "      <td>NaN</td>\n",
       "      <td>оригинал</td>\n",
       "      <td>2021-11-15 00:00:00</td>\n",
       "    </tr>\n",
       "  </tbody>\n",
       "</table>\n",
       "<p>730 rows × 8 columns</p>\n",
       "</div>"
      ],
      "text/plain": [
       "     client_id      sum      status        sale new/current  Unnamed: 5  \\\n",
       "0          NaN      NaN    Май 2021         NaN         NaN         NaN   \n",
       "1          6.0  11693.7  ВНУТРЕННИЙ           -           -         NaN   \n",
       "2         14.0   5452.7    ОПЛАЧЕНО     Петрова       новая         NaN   \n",
       "3         15.0  13991.7    ОПЛАЧЕНО      Иванов     текущая         NaN   \n",
       "4         16.0    719.7    ОПЛАЧЕНО      Иванов     текущая         NaN   \n",
       "..         ...      ...         ...         ...         ...         ...   \n",
       "725      285.0   4328.7    ОПЛАЧЕНО    Васильев     текущая         NaN   \n",
       "726      360.0   3096.2    ОПЛАЧЕНО    Васильев       новая         NaN   \n",
       "727      360.0   3096.2  ПРОСРОЧЕНО    Васильев       новая         NaN   \n",
       "728      373.0   4403.7    ОПЛАЧЕНО    Михайлов       новая         NaN   \n",
       "729      286.0   3978.7    ОПЛАЧЕНО  Филимонова     текущая         NaN   \n",
       "\n",
       "     document       receiving_date  \n",
       "0         NaN                  NaN  \n",
       "1           -                    -  \n",
       "2    оригинал  2021-07-26 00:00:00  \n",
       "3    оригинал  2021-06-08 00:00:00  \n",
       "4    оригинал  2021-06-08 00:00:00  \n",
       "..        ...                  ...  \n",
       "725  оригинал  2021-11-15 00:00:00  \n",
       "726       НЕТ                  NaN  \n",
       "727       НЕТ                  NaN  \n",
       "728  оригинал  2021-11-08 00:00:00  \n",
       "729  оригинал  2021-11-15 00:00:00  \n",
       "\n",
       "[730 rows x 8 columns]"
      ]
     },
     "execution_count": 6,
     "metadata": {},
     "output_type": "execute_result"
    }
   ],
   "source": [
    "df = pd.read_excel(\"D:/download/data.xlsx\")\n",
    "\n",
    "df"
   ]
  },
  {
   "cell_type": "code",
   "execution_count": 7,
   "id": "58537232",
   "metadata": {},
   "outputs": [
    {
     "name": "stdout",
     "output_type": "stream",
     "text": [
      "<class 'pandas.core.frame.DataFrame'>\n",
      "RangeIndex: 730 entries, 0 to 729\n",
      "Data columns (total 8 columns):\n",
      " #   Column          Non-Null Count  Dtype  \n",
      "---  ------          --------------  -----  \n",
      " 0   client_id       724 non-null    float64\n",
      " 1   sum             724 non-null    float64\n",
      " 2   status          730 non-null    object \n",
      " 3   sale            724 non-null    object \n",
      " 4   new/current     724 non-null    object \n",
      " 5   Unnamed: 5      0 non-null      float64\n",
      " 6   document        709 non-null    object \n",
      " 7   receiving_date  607 non-null    object \n",
      "dtypes: float64(3), object(5)\n",
      "memory usage: 45.8+ KB\n"
     ]
    }
   ],
   "source": [
    "# проверяем информацию о дадасете\n",
    "df.info()"
   ]
  },
  {
   "cell_type": "markdown",
   "id": "15f9b44e",
   "metadata": {},
   "source": [
    "### Предобработак данных\n",
    "\n",
    "На данном этапе:\n",
    "\n",
    "   - Избавимся от столбца ***\"Unnamed: 5\"*** в котором нет значение\n",
    "   - Изменим тип столбца ***receiving_date*** на datetime, предварительно заменив пропущеные значения\n"
   ]
  },
  {
   "cell_type": "code",
   "execution_count": 8,
   "id": "f87c7e9d",
   "metadata": {},
   "outputs": [],
   "source": [
    "# Удаляем пустой столбец\n",
    "df.drop('Unnamed: 5', axis=1, inplace=True)\n",
    "#Заменяем пропуски в столбце receiving_date\n",
    "df['receiving_date'] = df['receiving_date'].replace(['-'], 'NaN')\n",
    "# Меняем формат столбца receiving_date на dstetime\n",
    "df['receiving_date'] = pd.to_datetime(df['receiving_date'], format = '%Y-%m-%d %H-%M-%S')"
   ]
  },
  {
   "cell_type": "code",
   "execution_count": 9,
   "id": "9084c849",
   "metadata": {},
   "outputs": [
    {
     "data": {
      "text/html": [
       "<div>\n",
       "<style scoped>\n",
       "    .dataframe tbody tr th:only-of-type {\n",
       "        vertical-align: middle;\n",
       "    }\n",
       "\n",
       "    .dataframe tbody tr th {\n",
       "        vertical-align: top;\n",
       "    }\n",
       "\n",
       "    .dataframe thead th {\n",
       "        text-align: right;\n",
       "    }\n",
       "</style>\n",
       "<table border=\"1\" class=\"dataframe\">\n",
       "  <thead>\n",
       "    <tr style=\"text-align: right;\">\n",
       "      <th></th>\n",
       "      <th>client_id</th>\n",
       "      <th>sum</th>\n",
       "      <th>status</th>\n",
       "      <th>sale</th>\n",
       "      <th>new/current</th>\n",
       "      <th>document</th>\n",
       "      <th>receiving_date</th>\n",
       "    </tr>\n",
       "  </thead>\n",
       "  <tbody>\n",
       "    <tr>\n",
       "      <th>0</th>\n",
       "      <td>NaN</td>\n",
       "      <td>NaN</td>\n",
       "      <td>Май 2021</td>\n",
       "      <td>NaN</td>\n",
       "      <td>NaN</td>\n",
       "      <td>NaN</td>\n",
       "      <td>NaT</td>\n",
       "    </tr>\n",
       "    <tr>\n",
       "      <th>1</th>\n",
       "      <td>6.0</td>\n",
       "      <td>11693.7</td>\n",
       "      <td>ВНУТРЕННИЙ</td>\n",
       "      <td>-</td>\n",
       "      <td>-</td>\n",
       "      <td>-</td>\n",
       "      <td>NaT</td>\n",
       "    </tr>\n",
       "    <tr>\n",
       "      <th>2</th>\n",
       "      <td>14.0</td>\n",
       "      <td>5452.7</td>\n",
       "      <td>ОПЛАЧЕНО</td>\n",
       "      <td>Петрова</td>\n",
       "      <td>новая</td>\n",
       "      <td>оригинал</td>\n",
       "      <td>2021-07-26</td>\n",
       "    </tr>\n",
       "    <tr>\n",
       "      <th>3</th>\n",
       "      <td>15.0</td>\n",
       "      <td>13991.7</td>\n",
       "      <td>ОПЛАЧЕНО</td>\n",
       "      <td>Иванов</td>\n",
       "      <td>текущая</td>\n",
       "      <td>оригинал</td>\n",
       "      <td>2021-06-08</td>\n",
       "    </tr>\n",
       "    <tr>\n",
       "      <th>4</th>\n",
       "      <td>16.0</td>\n",
       "      <td>719.7</td>\n",
       "      <td>ОПЛАЧЕНО</td>\n",
       "      <td>Иванов</td>\n",
       "      <td>текущая</td>\n",
       "      <td>оригинал</td>\n",
       "      <td>2021-06-08</td>\n",
       "    </tr>\n",
       "  </tbody>\n",
       "</table>\n",
       "</div>"
      ],
      "text/plain": [
       "   client_id      sum      status     sale new/current  document  \\\n",
       "0        NaN      NaN    Май 2021      NaN         NaN       NaN   \n",
       "1        6.0  11693.7  ВНУТРЕННИЙ        -           -         -   \n",
       "2       14.0   5452.7    ОПЛАЧЕНО  Петрова       новая  оригинал   \n",
       "3       15.0  13991.7    ОПЛАЧЕНО   Иванов     текущая  оригинал   \n",
       "4       16.0    719.7    ОПЛАЧЕНО   Иванов     текущая  оригинал   \n",
       "\n",
       "  receiving_date  \n",
       "0            NaT  \n",
       "1            NaT  \n",
       "2     2021-07-26  \n",
       "3     2021-06-08  \n",
       "4     2021-06-08  "
      ]
     },
     "execution_count": 9,
     "metadata": {},
     "output_type": "execute_result"
    }
   ],
   "source": [
    "df.head()"
   ]
  },
  {
   "cell_type": "markdown",
   "id": "df8f34ea",
   "metadata": {},
   "source": [
    "### 1) Вычислите общую выручку за июль 2021 по тем сделкам, приход денежных средств которых не просрочен.\n",
    "\n",
    "Порядок выполнения: \n",
    "\n",
    "    - Проверим какие есть статусы в столбце sutatus\n",
    "    - Cозжажим новый DataFrame в который войдут значения, удовлетворяющии условиям \n",
    "    - Посчитаем приход средств\n",
    "    \n",
    "    \n",
    "`Ответ:` Общая выручка за июль 2021 по не просроченным сделкам равна 757830.74"
   ]
  },
  {
   "cell_type": "code",
   "execution_count": 10,
   "id": "d797e51e",
   "metadata": {},
   "outputs": [
    {
     "data": {
      "text/plain": [
       "array(['Май 2021', 'ВНУТРЕННИЙ', 'ОПЛАЧЕНО', 'ПРОСРОЧЕНО', 'Июнь 2021',\n",
       "       'Июль 2021', 'Август 2021', 'В РАБОТЕ', 'Сентябрь 2021',\n",
       "       'Октябрь 2021', 'НА ПОДПИСАНИИ'], dtype=object)"
      ]
     },
     "execution_count": 10,
     "metadata": {},
     "output_type": "execute_result"
    }
   ],
   "source": [
    "df['status'].unique()"
   ]
  },
  {
   "cell_type": "code",
   "execution_count": 11,
   "id": "fa14c826",
   "metadata": {},
   "outputs": [
    {
     "data": {
      "text/html": [
       "<div>\n",
       "<style scoped>\n",
       "    .dataframe tbody tr th:only-of-type {\n",
       "        vertical-align: middle;\n",
       "    }\n",
       "\n",
       "    .dataframe tbody tr th {\n",
       "        vertical-align: top;\n",
       "    }\n",
       "\n",
       "    .dataframe thead th {\n",
       "        text-align: right;\n",
       "    }\n",
       "</style>\n",
       "<table border=\"1\" class=\"dataframe\">\n",
       "  <thead>\n",
       "    <tr style=\"text-align: right;\">\n",
       "      <th></th>\n",
       "      <th>client_id</th>\n",
       "      <th>sum</th>\n",
       "      <th>status</th>\n",
       "      <th>sale</th>\n",
       "      <th>new/current</th>\n",
       "      <th>document</th>\n",
       "      <th>receiving_date</th>\n",
       "    </tr>\n",
       "  </thead>\n",
       "  <tbody>\n",
       "    <tr>\n",
       "      <th>2</th>\n",
       "      <td>14.0</td>\n",
       "      <td>5452.70</td>\n",
       "      <td>ОПЛАЧЕНО</td>\n",
       "      <td>Петрова</td>\n",
       "      <td>новая</td>\n",
       "      <td>оригинал</td>\n",
       "      <td>2021-07-26</td>\n",
       "    </tr>\n",
       "    <tr>\n",
       "      <th>5</th>\n",
       "      <td>18.0</td>\n",
       "      <td>4253.70</td>\n",
       "      <td>ОПЛАЧЕНО</td>\n",
       "      <td>Иванов</td>\n",
       "      <td>текущая</td>\n",
       "      <td>оригинал</td>\n",
       "      <td>2021-07-07</td>\n",
       "    </tr>\n",
       "    <tr>\n",
       "      <th>6</th>\n",
       "      <td>20.0</td>\n",
       "      <td>5796.70</td>\n",
       "      <td>ОПЛАЧЕНО</td>\n",
       "      <td>Кузнецова</td>\n",
       "      <td>текущая</td>\n",
       "      <td>оригинал</td>\n",
       "      <td>2021-07-15</td>\n",
       "    </tr>\n",
       "    <tr>\n",
       "      <th>12</th>\n",
       "      <td>32.0</td>\n",
       "      <td>7353.90</td>\n",
       "      <td>ОПЛАЧЕНО</td>\n",
       "      <td>Филимонова</td>\n",
       "      <td>текущая</td>\n",
       "      <td>оригинал</td>\n",
       "      <td>2021-07-09</td>\n",
       "    </tr>\n",
       "    <tr>\n",
       "      <th>13</th>\n",
       "      <td>34.0</td>\n",
       "      <td>3892.52</td>\n",
       "      <td>ОПЛАЧЕНО</td>\n",
       "      <td>Филимонова</td>\n",
       "      <td>текущая</td>\n",
       "      <td>оригинал</td>\n",
       "      <td>2021-07-09</td>\n",
       "    </tr>\n",
       "    <tr>\n",
       "      <th>...</th>\n",
       "      <td>...</td>\n",
       "      <td>...</td>\n",
       "      <td>...</td>\n",
       "      <td>...</td>\n",
       "      <td>...</td>\n",
       "      <td>...</td>\n",
       "      <td>...</td>\n",
       "    </tr>\n",
       "    <tr>\n",
       "      <th>251</th>\n",
       "      <td>273.0</td>\n",
       "      <td>10133.70</td>\n",
       "      <td>ОПЛАЧЕНО</td>\n",
       "      <td>Петрова</td>\n",
       "      <td>текущая</td>\n",
       "      <td>оригинал</td>\n",
       "      <td>2021-07-06</td>\n",
       "    </tr>\n",
       "    <tr>\n",
       "      <th>252</th>\n",
       "      <td>277.0</td>\n",
       "      <td>4798.70</td>\n",
       "      <td>ОПЛАЧЕНО</td>\n",
       "      <td>Филимонова</td>\n",
       "      <td>текущая</td>\n",
       "      <td>оригинал</td>\n",
       "      <td>2021-07-08</td>\n",
       "    </tr>\n",
       "    <tr>\n",
       "      <th>253</th>\n",
       "      <td>281.0</td>\n",
       "      <td>5733.70</td>\n",
       "      <td>ОПЛАЧЕНО</td>\n",
       "      <td>Селиванов</td>\n",
       "      <td>текущая</td>\n",
       "      <td>оригинал</td>\n",
       "      <td>2021-07-22</td>\n",
       "    </tr>\n",
       "    <tr>\n",
       "      <th>254</th>\n",
       "      <td>282.0</td>\n",
       "      <td>953.70</td>\n",
       "      <td>ОПЛАЧЕНО</td>\n",
       "      <td>Селиванов</td>\n",
       "      <td>новая</td>\n",
       "      <td>оригинал</td>\n",
       "      <td>2021-07-16</td>\n",
       "    </tr>\n",
       "    <tr>\n",
       "      <th>256</th>\n",
       "      <td>286.0</td>\n",
       "      <td>3453.70</td>\n",
       "      <td>ОПЛАЧЕНО</td>\n",
       "      <td>Филимонова</td>\n",
       "      <td>текущая</td>\n",
       "      <td>оригинал</td>\n",
       "      <td>2021-07-22</td>\n",
       "    </tr>\n",
       "  </tbody>\n",
       "</table>\n",
       "<p>117 rows × 7 columns</p>\n",
       "</div>"
      ],
      "text/plain": [
       "     client_id       sum    status        sale new/current  document  \\\n",
       "2         14.0   5452.70  ОПЛАЧЕНО     Петрова       новая  оригинал   \n",
       "5         18.0   4253.70  ОПЛАЧЕНО      Иванов     текущая  оригинал   \n",
       "6         20.0   5796.70  ОПЛАЧЕНО   Кузнецова     текущая  оригинал   \n",
       "12        32.0   7353.90  ОПЛАЧЕНО  Филимонова     текущая  оригинал   \n",
       "13        34.0   3892.52  ОПЛАЧЕНО  Филимонова     текущая  оригинал   \n",
       "..         ...       ...       ...         ...         ...       ...   \n",
       "251      273.0  10133.70  ОПЛАЧЕНО     Петрова     текущая  оригинал   \n",
       "252      277.0   4798.70  ОПЛАЧЕНО  Филимонова     текущая  оригинал   \n",
       "253      281.0   5733.70  ОПЛАЧЕНО   Селиванов     текущая  оригинал   \n",
       "254      282.0    953.70  ОПЛАЧЕНО   Селиванов       новая  оригинал   \n",
       "256      286.0   3453.70  ОПЛАЧЕНО  Филимонова     текущая  оригинал   \n",
       "\n",
       "    receiving_date  \n",
       "2       2021-07-26  \n",
       "5       2021-07-07  \n",
       "6       2021-07-15  \n",
       "12      2021-07-09  \n",
       "13      2021-07-09  \n",
       "..             ...  \n",
       "251     2021-07-06  \n",
       "252     2021-07-08  \n",
       "253     2021-07-22  \n",
       "254     2021-07-16  \n",
       "256     2021-07-22  \n",
       "\n",
       "[117 rows x 7 columns]"
      ]
     },
     "execution_count": 11,
     "metadata": {},
     "output_type": "execute_result"
    }
   ],
   "source": [
    "july_21 = df[(df['receiving_date'].dt.year == 2021) & (df['receiving_date'].dt.month == 7)]\n",
    "july_21 = july_21[july_21['status'] != 'ПРОСРОЧЕНО']\n",
    "july_21"
   ]
  },
  {
   "cell_type": "code",
   "execution_count": 12,
   "id": "2a15b342",
   "metadata": {},
   "outputs": [
    {
     "name": "stdout",
     "output_type": "stream",
     "text": [
      "Общая выручка за июль 2021 по не просроченным сделкам равна 757830.74\n"
     ]
    }
   ],
   "source": [
    "revenue = july_21['sum'].agg(sum)\n",
    "\n",
    "print(f'Общая выручка за июль 2021 по не просроченным сделкам равна {round(revenue, 2)}')"
   ]
  },
  {
   "cell_type": "markdown",
   "id": "72412446",
   "metadata": {},
   "source": [
    "### 2) Как изменялась выручка компании за рассматриваемый период? Проиллюстрируйте графиком.\n",
    "\n",
    "План действий:\n",
    "\n",
    "    - Посмотреть переуд за который предоставлены данные \n",
    "    - Постоить граффик по месяцам"
   ]
  },
  {
   "cell_type": "code",
   "execution_count": 13,
   "id": "417c1ad4",
   "metadata": {},
   "outputs": [
    {
     "name": "stdout",
     "output_type": "stream",
     "text": [
      "Минимальная дата2021-05-18 00:00:00\n",
      "Максимальая дата 2021-11-15 00:00:00\n"
     ]
    }
   ],
   "source": [
    "#За какой переуд представлены данные \n",
    "max_date = df.receiving_date.max()\n",
    "min_date = df.receiving_date.min()\n",
    "\n",
    "print(f'Минимальная дата{min_date}')\n",
    "print(f'Максимальая дата {max_date}')"
   ]
  },
  {
   "cell_type": "markdown",
   "id": "594543a1",
   "metadata": {},
   "source": [
    "Данные представлены за 6 месяцев "
   ]
  },
  {
   "cell_type": "code",
   "execution_count": 14,
   "id": "24ccd960",
   "metadata": {},
   "outputs": [
    {
     "data": {
      "image/png": "[encoded data removed]",
      "text/plain": [
       "<Figure size 1200x600 with 1 Axes>"
      ]
     },
     "metadata": {},
     "output_type": "display_data"
    }
   ],
   "source": [
    "#группировка данных по месяцам \n",
    "revenue_by_month = df.groupby(df['receiving_date'].dt.to_period('M'))['sum'].sum()\n",
    "revenue_by_month\n",
    "plt.figure(figsize=(12, 6))\n",
    "revenue_by_month.plot( kind='bar')\n",
    "plt.title('Изменение выручки компании ра зассматриваемый переуд')\n",
    "plt.xlabel('Месяц')\n",
    "plt.ylabel('Выручка')\n",
    "plt.grid(True)\n",
    "plt.show()\n",
    "     "
   ]
  },
  {
   "cell_type": "markdown",
   "id": "6af8aeeb",
   "metadata": {},
   "source": [
    "Судя по графику выручка выходит на стабильный уровень! Просадку в ноябре можно не брать в расчет, так как пршло только только 15  дней месяца"
   ]
  },
  {
   "cell_type": "markdown",
   "id": "ecb78087",
   "metadata": {},
   "source": [
    "### 3) Кто из менеджеров привлек для компании больше всего денежных средств в сентябре 2021?"
   ]
  },
  {
   "cell_type": "code",
   "execution_count": 15,
   "id": "cd71f188",
   "metadata": {},
   "outputs": [],
   "source": [
    "#сортировка данных по месяцу\n",
    "manager = df[(df['receiving_date'].dt.month == 9)]"
   ]
  },
  {
   "cell_type": "code",
   "execution_count": 16,
   "id": "6a0ca554",
   "metadata": {},
   "outputs": [
    {
     "data": {
      "text/plain": [
       "sale\n",
       "Петрова       219240.12\n",
       "Иванов        165314.80\n",
       "Смирнов       155245.90\n",
       "Андреев       124714.55\n",
       "Кузнецова      60230.20\n",
       "Васильев       55667.50\n",
       "Филимонова     45763.30\n",
       "Соколов        44234.60\n",
       "Name: sum, dtype: float64"
      ]
     },
     "execution_count": 16,
     "metadata": {},
     "output_type": "execute_result"
    }
   ],
   "source": [
    "#группировка данных по менеджеру и подсчет общей выручки по каждому из них\n",
    "rev_manager = manager.groupby('sale')['sum'].sum().sort_values(ascending=False)\n",
    "rev_manager"
   ]
  },
  {
   "cell_type": "markdown",
   "id": "91e28878",
   "metadata": {},
   "source": [
    "Больше всего в сентябре принес менеджер ***Петрова***"
   ]
  },
  {
   "cell_type": "markdown",
   "id": "92a0ca73",
   "metadata": {},
   "source": [
    "### 4) Какой тип сделок (новая/текущая) был преобладающим в октябре 2021?"
   ]
  },
  {
   "cell_type": "code",
   "execution_count": 17,
   "id": "3009217f",
   "metadata": {},
   "outputs": [
    {
     "data": {
      "text/plain": [
       "new/current\n",
       "текущая    105\n",
       "новая       17\n",
       "Name: count, dtype: int64"
      ]
     },
     "execution_count": 17,
     "metadata": {},
     "output_type": "execute_result"
    }
   ],
   "source": [
    "#сортировка\n",
    "oct_21 = df[(df['receiving_date'].dt.month == 10)]\n",
    "oct_21['new/current'].value_counts()"
   ]
  },
  {
   "cell_type": "markdown",
   "id": "2b08c2a8",
   "metadata": {},
   "source": [
    "Сделак в октябра больше со статусом ***текущая***"
   ]
  },
  {
   "cell_type": "markdown",
   "id": "4bbe4f8a",
   "metadata": {},
   "source": [
    "### 5) Сколько оригиналов договора по майским сделкам было получено в июне 2021?"
   ]
  },
  {
   "cell_type": "code",
   "execution_count": 18,
   "id": "2810542f",
   "metadata": {},
   "outputs": [
    {
     "data": {
      "text/plain": [
       "document\n",
       "оригинал    72\n",
       "Name: count, dtype: int64"
      ]
     },
     "execution_count": 18,
     "metadata": {},
     "output_type": "execute_result"
    }
   ],
   "source": [
    "jun = df[(df['receiving_date'].dt.month == 6) & (df['new/current'] == 'текущая')]\n",
    "jun['document'].value_counts()"
   ]
  },
  {
   "cell_type": "markdown",
   "id": "4d3e72fd",
   "metadata": {},
   "source": [
    "В июне по майским сделкам  получено 72 оригинала договора"
   ]
  },
  {
   "cell_type": "markdown",
   "id": "da4b9695",
   "metadata": {},
   "source": [
    "## Задание:\n",
    "\n",
    "За каждую заключенную сделку менеджер получает бонус, который рассчитывается\n",
    "следующим образом.\n",
    "\n",
    "1) За новые сделки менеджер получает 7 % от суммы, при условии, что статус оплаты «ОПЛАЧЕНО», а также имеется оригинал подписанного договора с клиентом (в рассматриваемом месяце).\n",
    "\n",
    "\n",
    "2) За текущие сделки менеджер получает 5 % от суммы, если она больше 10 тыс., и 3 % от суммы, если меньше. При этом статус оплаты может быть любым, кроме «ПРОСРОЧЕНО», а также необходимо наличие оригинала подписанного договора с клиентом (в рассматриваемом месяце).\n",
    "\n",
    "Бонусы по сделкам, оригиналы для которых приходят позже рассматриваемого\n",
    "месяца, считаются остатком на следующий период, который выплачивается по мере\n",
    "прихода оригиналов. Вычислите остаток каждого из менеджеров на 01.07.2021."
   ]
  },
  {
   "cell_type": "code",
   "execution_count": 19,
   "id": "bbe2ec78",
   "metadata": {},
   "outputs": [],
   "source": [
    "def m_bonus(data):\n",
    "    bonus = 0\n",
    "    if data['status'] == 'ОПЛАЧЕНО' and data['document'] == 'оригинал':\n",
    "        if data['new/current'] == 'новая':\n",
    "            bonus = data['sum'] * 0.07\n",
    "        elif data['new/current'] == 'текущая' and data['status'] != 'ПРОСРОЧЕНО':\n",
    "            if data['sum'] > 10000:\n",
    "                bonus = data['sum'] * 0.05\n",
    "        bonus = data['sum'] * 0.03\n",
    "    return bonus\n",
    "     \n"
   ]
  },
  {
   "cell_type": "code",
   "execution_count": 20,
   "id": "79c6776f",
   "metadata": {},
   "outputs": [
    {
     "data": {
      "text/html": [
       "<div>\n",
       "<style scoped>\n",
       "    .dataframe tbody tr th:only-of-type {\n",
       "        vertical-align: middle;\n",
       "    }\n",
       "\n",
       "    .dataframe tbody tr th {\n",
       "        vertical-align: top;\n",
       "    }\n",
       "\n",
       "    .dataframe thead th {\n",
       "        text-align: right;\n",
       "    }\n",
       "</style>\n",
       "<table border=\"1\" class=\"dataframe\">\n",
       "  <thead>\n",
       "    <tr style=\"text-align: right;\">\n",
       "      <th></th>\n",
       "      <th>client_id</th>\n",
       "      <th>sum</th>\n",
       "      <th>status</th>\n",
       "      <th>sale</th>\n",
       "      <th>new/current</th>\n",
       "      <th>document</th>\n",
       "      <th>receiving_date</th>\n",
       "      <th>bonus</th>\n",
       "    </tr>\n",
       "  </thead>\n",
       "  <tbody>\n",
       "    <tr>\n",
       "      <th>0</th>\n",
       "      <td>NaN</td>\n",
       "      <td>NaN</td>\n",
       "      <td>Май 2021</td>\n",
       "      <td>NaN</td>\n",
       "      <td>NaN</td>\n",
       "      <td>NaN</td>\n",
       "      <td>NaT</td>\n",
       "      <td>0.000</td>\n",
       "    </tr>\n",
       "    <tr>\n",
       "      <th>1</th>\n",
       "      <td>6.0</td>\n",
       "      <td>11693.7</td>\n",
       "      <td>ВНУТРЕННИЙ</td>\n",
       "      <td>-</td>\n",
       "      <td>-</td>\n",
       "      <td>-</td>\n",
       "      <td>NaT</td>\n",
       "      <td>0.000</td>\n",
       "    </tr>\n",
       "    <tr>\n",
       "      <th>2</th>\n",
       "      <td>14.0</td>\n",
       "      <td>5452.7</td>\n",
       "      <td>ОПЛАЧЕНО</td>\n",
       "      <td>Петрова</td>\n",
       "      <td>новая</td>\n",
       "      <td>оригинал</td>\n",
       "      <td>2021-07-26</td>\n",
       "      <td>163.581</td>\n",
       "    </tr>\n",
       "    <tr>\n",
       "      <th>3</th>\n",
       "      <td>15.0</td>\n",
       "      <td>13991.7</td>\n",
       "      <td>ОПЛАЧЕНО</td>\n",
       "      <td>Иванов</td>\n",
       "      <td>текущая</td>\n",
       "      <td>оригинал</td>\n",
       "      <td>2021-06-08</td>\n",
       "      <td>419.751</td>\n",
       "    </tr>\n",
       "    <tr>\n",
       "      <th>4</th>\n",
       "      <td>16.0</td>\n",
       "      <td>719.7</td>\n",
       "      <td>ОПЛАЧЕНО</td>\n",
       "      <td>Иванов</td>\n",
       "      <td>текущая</td>\n",
       "      <td>оригинал</td>\n",
       "      <td>2021-06-08</td>\n",
       "      <td>21.591</td>\n",
       "    </tr>\n",
       "    <tr>\n",
       "      <th>...</th>\n",
       "      <td>...</td>\n",
       "      <td>...</td>\n",
       "      <td>...</td>\n",
       "      <td>...</td>\n",
       "      <td>...</td>\n",
       "      <td>...</td>\n",
       "      <td>...</td>\n",
       "      <td>...</td>\n",
       "    </tr>\n",
       "    <tr>\n",
       "      <th>725</th>\n",
       "      <td>285.0</td>\n",
       "      <td>4328.7</td>\n",
       "      <td>ОПЛАЧЕНО</td>\n",
       "      <td>Васильев</td>\n",
       "      <td>текущая</td>\n",
       "      <td>оригинал</td>\n",
       "      <td>2021-11-15</td>\n",
       "      <td>129.861</td>\n",
       "    </tr>\n",
       "    <tr>\n",
       "      <th>726</th>\n",
       "      <td>360.0</td>\n",
       "      <td>3096.2</td>\n",
       "      <td>ОПЛАЧЕНО</td>\n",
       "      <td>Васильев</td>\n",
       "      <td>новая</td>\n",
       "      <td>НЕТ</td>\n",
       "      <td>NaT</td>\n",
       "      <td>0.000</td>\n",
       "    </tr>\n",
       "    <tr>\n",
       "      <th>727</th>\n",
       "      <td>360.0</td>\n",
       "      <td>3096.2</td>\n",
       "      <td>ПРОСРОЧЕНО</td>\n",
       "      <td>Васильев</td>\n",
       "      <td>новая</td>\n",
       "      <td>НЕТ</td>\n",
       "      <td>NaT</td>\n",
       "      <td>0.000</td>\n",
       "    </tr>\n",
       "    <tr>\n",
       "      <th>728</th>\n",
       "      <td>373.0</td>\n",
       "      <td>4403.7</td>\n",
       "      <td>ОПЛАЧЕНО</td>\n",
       "      <td>Михайлов</td>\n",
       "      <td>новая</td>\n",
       "      <td>оригинал</td>\n",
       "      <td>2021-11-08</td>\n",
       "      <td>132.111</td>\n",
       "    </tr>\n",
       "    <tr>\n",
       "      <th>729</th>\n",
       "      <td>286.0</td>\n",
       "      <td>3978.7</td>\n",
       "      <td>ОПЛАЧЕНО</td>\n",
       "      <td>Филимонова</td>\n",
       "      <td>текущая</td>\n",
       "      <td>оригинал</td>\n",
       "      <td>2021-11-15</td>\n",
       "      <td>119.361</td>\n",
       "    </tr>\n",
       "  </tbody>\n",
       "</table>\n",
       "<p>730 rows × 8 columns</p>\n",
       "</div>"
      ],
      "text/plain": [
       "     client_id      sum      status        sale new/current  document  \\\n",
       "0          NaN      NaN    Май 2021         NaN         NaN       NaN   \n",
       "1          6.0  11693.7  ВНУТРЕННИЙ           -           -         -   \n",
       "2         14.0   5452.7    ОПЛАЧЕНО     Петрова       новая  оригинал   \n",
       "3         15.0  13991.7    ОПЛАЧЕНО      Иванов     текущая  оригинал   \n",
       "4         16.0    719.7    ОПЛАЧЕНО      Иванов     текущая  оригинал   \n",
       "..         ...      ...         ...         ...         ...       ...   \n",
       "725      285.0   4328.7    ОПЛАЧЕНО    Васильев     текущая  оригинал   \n",
       "726      360.0   3096.2    ОПЛАЧЕНО    Васильев       новая       НЕТ   \n",
       "727      360.0   3096.2  ПРОСРОЧЕНО    Васильев       новая       НЕТ   \n",
       "728      373.0   4403.7    ОПЛАЧЕНО    Михайлов       новая  оригинал   \n",
       "729      286.0   3978.7    ОПЛАЧЕНО  Филимонова     текущая  оригинал   \n",
       "\n",
       "    receiving_date    bonus  \n",
       "0              NaT    0.000  \n",
       "1              NaT    0.000  \n",
       "2       2021-07-26  163.581  \n",
       "3       2021-06-08  419.751  \n",
       "4       2021-06-08   21.591  \n",
       "..             ...      ...  \n",
       "725     2021-11-15  129.861  \n",
       "726            NaT    0.000  \n",
       "727            NaT    0.000  \n",
       "728     2021-11-08  132.111  \n",
       "729     2021-11-15  119.361  \n",
       "\n",
       "[730 rows x 8 columns]"
      ]
     },
     "execution_count": 20,
     "metadata": {},
     "output_type": "execute_result"
    }
   ],
   "source": [
    "df['bonus'] = df.apply(m_bonus, axis=1)\n",
    "df"
   ]
  },
  {
   "cell_type": "code",
   "execution_count": 21,
   "id": "ee56cfac",
   "metadata": {},
   "outputs": [
    {
     "data": {
      "text/html": [
       "<div>\n",
       "<style scoped>\n",
       "    .dataframe tbody tr th:only-of-type {\n",
       "        vertical-align: middle;\n",
       "    }\n",
       "\n",
       "    .dataframe tbody tr th {\n",
       "        vertical-align: top;\n",
       "    }\n",
       "\n",
       "    .dataframe thead th {\n",
       "        text-align: right;\n",
       "    }\n",
       "</style>\n",
       "<table border=\"1\" class=\"dataframe\">\n",
       "  <thead>\n",
       "    <tr style=\"text-align: right;\">\n",
       "      <th></th>\n",
       "      <th>sale</th>\n",
       "      <th>bonus</th>\n",
       "    </tr>\n",
       "  </thead>\n",
       "  <tbody>\n",
       "    <tr>\n",
       "      <th>5</th>\n",
       "      <td>Петрова</td>\n",
       "      <td>20211.7152</td>\n",
       "    </tr>\n",
       "    <tr>\n",
       "      <th>7</th>\n",
       "      <td>Смирнов</td>\n",
       "      <td>18567.9660</td>\n",
       "    </tr>\n",
       "    <tr>\n",
       "      <th>0</th>\n",
       "      <td>Андреев</td>\n",
       "      <td>15982.2423</td>\n",
       "    </tr>\n",
       "    <tr>\n",
       "      <th>2</th>\n",
       "      <td>Иванов</td>\n",
       "      <td>14992.1100</td>\n",
       "    </tr>\n",
       "    <tr>\n",
       "      <th>3</th>\n",
       "      <td>Кузнецова</td>\n",
       "      <td>12192.2355</td>\n",
       "    </tr>\n",
       "    <tr>\n",
       "      <th>9</th>\n",
       "      <td>Филимонова</td>\n",
       "      <td>7216.3905</td>\n",
       "    </tr>\n",
       "    <tr>\n",
       "      <th>1</th>\n",
       "      <td>Васильев</td>\n",
       "      <td>4552.7325</td>\n",
       "    </tr>\n",
       "    <tr>\n",
       "      <th>6</th>\n",
       "      <td>Селиванов</td>\n",
       "      <td>4085.3190</td>\n",
       "    </tr>\n",
       "    <tr>\n",
       "      <th>8</th>\n",
       "      <td>Соколов</td>\n",
       "      <td>3103.3260</td>\n",
       "    </tr>\n",
       "    <tr>\n",
       "      <th>4</th>\n",
       "      <td>Михайлов</td>\n",
       "      <td>260.1720</td>\n",
       "    </tr>\n",
       "  </tbody>\n",
       "</table>\n",
       "</div>"
      ],
      "text/plain": [
       "         sale       bonus\n",
       "5     Петрова  20211.7152\n",
       "7     Смирнов  18567.9660\n",
       "0     Андреев  15982.2423\n",
       "2      Иванов  14992.1100\n",
       "3   Кузнецова  12192.2355\n",
       "9  Филимонова   7216.3905\n",
       "1    Васильев   4552.7325\n",
       "6   Селиванов   4085.3190\n",
       "8     Соколов   3103.3260\n",
       "4    Михайлов    260.1720"
      ]
     },
     "execution_count": 21,
     "metadata": {},
     "output_type": "execute_result"
    }
   ],
   "source": [
    "b_manager = df[df.receiving_date > '2021-07-01'].groupby('sale').agg({'bonus': 'sum'}).reset_index()\n",
    "b_manager.sort_values(by = 'bonus', ascending=False)"
   ]
  }
 ],
 "metadata": {
  "kernelspec": {
   "display_name": "Python 3 (ipykernel)",
   "language": "python",
   "name": "python3"
  },
  "language_info": {
   "codemirror_mode": {
    "name": "ipython",
    "version": 3
   },
   "file_extension": ".py",
   "mimetype": "text/x-python",
   "name": "python",
   "nbconvert_exporter": "python",
   "pygments_lexer": "ipython3",
   "version": "3.11.5"
  }
 },
 "nbformat": 4,
 "nbformat_minor": 5
}
